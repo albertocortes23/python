{
 "cells": [
  {
   "cell_type": "markdown",
   "metadata": {},
   "source": [
    "Se importan las librerias que se van a utilizar en el proyecto"
   ]
  },
  {
   "cell_type": "code",
   "execution_count": 57,
   "metadata": {},
   "outputs": [],
   "source": [
    "import requests\n",
    "from bs4 import BeautifulSoup\n",
    "\n"
   ]
  },
  {
   "cell_type": "markdown",
   "metadata": {},
   "source": [
    "Una ves importadas las librerias se generan las funciones para obtener el contenido (codigo fuente) y poder marsearlo"
   ]
  },
  {
   "cell_type": "code",
   "execution_count": 58,
   "metadata": {},
   "outputs": [],
   "source": [
    "def obtener_contenido_pagina(url):\n",
    "    \"\"\"\n",
    "    Funcion para obtener el codigo fuente de la pagina a la que vamos a hacer scrapping\n",
    "    \"\"\"\n",
    "    response = requests.get(url)\n",
    "    return response.content\n",
    "\n",
    "\n",
    "def analizar_contenido_html(html):\n",
    "    \"\"\"\n",
    "    Funcion para parsear el codigo fuente obtenido de la pagina con la libreria de BeautifulSoup\n",
    "    \"\"\"\n",
    "    return BeautifulSoup(html, 'html.parser')\n",
    "\n"
   ]
  },
  {
   "cell_type": "markdown",
   "metadata": {},
   "source": [
    "Con el contenido parseador ahora generamos la funcion para identificar la informacion que nos interesa"
   ]
  },
  {
   "cell_type": "code",
   "execution_count": 69,
   "metadata": {},
   "outputs": [],
   "source": [
    "data = []\n",
    "\n",
    "def procesar_pagina(soup):\n",
    "\n",
    "    titulos = []\n",
    "    urls = []\n",
    "\n",
    "    titulo_noticia = soup.find_all('div', class_=\"cnt\")\n",
    "\n",
    "    #Identificamos los titulos de las noticias\n",
    "    for item in titulo_noticia:\n",
    "        titulo = item.a.text.strip()\n",
    "        titulo_min = titulo.lower()\n",
    "        if('luis aguilar' in titulo_min): #Identificamos si contiene el nombre de la persona que es de nuestro interes \n",
    "            titulos.append(titulo)\n",
    "        if('mario vazquez' in titulo_min): #Identificamos si contiene el nombre de la persona que es de nuestro interes \n",
    "            titulos.append(titulo)\n",
    "\n",
    "    url_noticia = soup.find_all('div', class_=\"cnt\")\n",
    "    #Identificamos las URL de las noticias\n",
    "    for item in url_noticia:\n",
    "        url = item.find('a')['href'].strip()\n",
    "        if('luis_aguilar' in url): #Identificamos si contiene el nombre de la persona que es de nuestro interes\n",
    "            url = \"https://tiempo.com.mx\"+url\n",
    "            urls.append(url)\n",
    "        if('mario_vazquez' in url): #Identificamos si contiene el nombre de la persona que es de nuestro interes\n",
    "            url = \"https://tiempo.com.mx\"+url\n",
    "            urls.append(url)\n",
    "\n",
    "    min_length = min(len(titulos), len(urls))\n",
    "\n",
    "    for i in range(min_length):\n",
    "\n",
    "        data.append({\n",
    "            \"Titulo\": titulos[i] if i < len(titulos) else None,\n",
    "            \"Url\" : urls[i] if i < len(titulos) else None,\n",
    "            \"Medio\" : \"Tiempo La Noticia Digital\"\n",
    "        })\n"
   ]
  },
  {
   "cell_type": "markdown",
   "metadata": {},
   "source": [
    "Una ves definida nuestra funcion para identificar los datos que queremos obtener entonces mandamos llamar estas funciones mandando la pagina a la que haremos scrapping"
   ]
  },
  {
   "cell_type": "code",
   "execution_count": 70,
   "metadata": {},
   "outputs": [
    {
     "name": "stdout",
     "output_type": "stream",
     "text": [
      "[{'Título': 'Propone Luis Aguilar reestructurar programas sociales', 'URL': 'https://tiempo.com.mx/noticia/propone_luis_aguilar_reestructurar_programas_sociales/', 'Medio': 'Tiempo La Noticia Digital'}]\n"
     ]
    }
   ],
   "source": [
    "\n",
    "url_base = \"https://tiempo.com.mx\"\n",
    "contenido_pagina = obtener_contenido_pagina(url_base)\n",
    "soup = analizar_contenido_html(contenido_pagina)\n",
    "procesar_pagina(soup)\n",
    "\n",
    "print(data)"
   ]
  },
  {
   "cell_type": "markdown",
   "metadata": {},
   "source": [
    "Teniendo la informacion procedemos a guardarlo en un archivo CSV"
   ]
  },
  {
   "cell_type": "code",
   "execution_count": 71,
   "metadata": {},
   "outputs": [],
   "source": [
    "import pandas as pd\n",
    "import datetime\n",
    "\n",
    "df = pd.DataFrame(data)\n",
    "\n",
    "\n",
    "fecha_actual = datetime.datetime.now().strftime(\"%d-%m-%Y\")\n",
    "\n",
    "df.to_csv(f\"tiempocommx-{fecha_actual}.csv\", index=False)"
   ]
  }
 ],
 "metadata": {
  "kernelspec": {
   "display_name": "Python 3",
   "language": "python",
   "name": "python3"
  },
  "language_info": {
   "codemirror_mode": {
    "name": "ipython",
    "version": 3
   },
   "file_extension": ".py",
   "mimetype": "text/x-python",
   "name": "python",
   "nbconvert_exporter": "python",
   "pygments_lexer": "ipython3",
   "version": "3.9.6"
  },
  "orig_nbformat": 4
 },
 "nbformat": 4,
 "nbformat_minor": 2
}
